{
  "nbformat": 4,
  "nbformat_minor": 0,
  "metadata": {
    "colab": {
      "name": "Linear_Regression.ipynb",
      "provenance": [],
      "authorship_tag": "ABX9TyNxdos50qj3NZMCkYZTvJQM",
      "include_colab_link": true
    },
    "kernelspec": {
      "name": "python3",
      "display_name": "Python 3"
    },
    "language_info": {
      "name": "python"
    },
    "accelerator": "GPU",
    "gpuClass": "standard"
  },
  "cells": [
    {
      "cell_type": "markdown",
      "metadata": {
        "id": "view-in-github",
        "colab_type": "text"
      },
      "source": [
        "<a href=\"https://colab.research.google.com/github/Modinat-A/Extreme-Multi-label-Text-Classifiers/blob/main/one_vs_all/svc.ipynb\" target=\"_parent\"><img src=\"https://colab.research.google.com/assets/colab-badge.svg\" alt=\"Open In Colab\"/></a>"
      ]
    },
    {
      "cell_type": "code",
      "execution_count": 12,
      "metadata": {
        "id": "A05E0S-hpIho"
      },
      "outputs": [],
      "source": [
        "# logistic regression for multi-class classification using a one-vs-rest\n",
        "import pandas as pd\n",
        "%matplotlib inline\n",
        "import re\n",
        "import matplotlib\n",
        "import numpy as np\n",
        "import matplotlib.pyplot as plt\n",
        "import pandas as pd\n",
        "from sklearn.model_selection import train_test_split\n",
        "from sklearn.datasets import make_classification\n",
        "from sklearn.feature_extraction.text import TfidfVectorizer\n",
        "from sklearn.metrics import accuracy_score\n",
        "from sklearn.multiclass import OneVsRestClassifier\n",
        "import nltk\n",
        "from sklearn.svm import LinearSVC\n",
        "from sklearn.svm import SVC\n",
        "from sklearn.linear_model import LogisticRegression\n",
        "from sklearn.pipeline import Pipeline\n",
        "import seaborn as sns\n",
        "from sklearn.metrics import f1_score\n",
        "from sklearn.preprocessing import MultiLabelBinarizer"
      ]
    },
    {
      "cell_type": "code",
      "source": [
        "stopwords =nltk.download('stopwords')"
      ],
      "metadata": {
        "colab": {
          "base_uri": "https://localhost:8080/"
        },
        "id": "7f95lBH2P-Af",
        "outputId": "154de49d-1f6b-4e9a-beb7-b2c2029232ac"
      },
      "execution_count": 2,
      "outputs": [
        {
          "output_type": "stream",
          "name": "stderr",
          "text": [
            "[nltk_data] Downloading package stopwords to /root/nltk_data...\n",
            "[nltk_data]   Unzipping corpora/stopwords.zip.\n"
          ]
        }
      ]
    },
    {
      "cell_type": "code",
      "source": [
        "from nltk.corpus import stopwords\n",
        "stop = stopwords.words('english')"
      ],
      "metadata": {
        "id": "MKfK5YmqPsSE"
      },
      "execution_count": 3,
      "outputs": []
    },
    {
      "cell_type": "markdown",
      "source": [
        "## Data Exploration"
      ],
      "metadata": {
        "id": "RY4kdz3KdM-C"
      }
    },
    {
      "cell_type": "markdown",
      "source": [
        "Create Classifier Using support vector classifier"
      ],
      "metadata": {
        "id": "z6PlTUbgW4cP"
      }
    },
    {
      "cell_type": "code",
      "source": [
        "clf = Pipeline([(\"vectorizer\",\n",
        "                 TfidfVectorizer(max_features = 25000)), \n",
        "                (\"classifier\", OneVsRestClassifier(LinearSVC(), n_jobs = 4))])"
      ],
      "metadata": {
        "id": "8k_58ieDW2sh"
      },
      "execution_count": 19,
      "outputs": []
    },
    {
      "cell_type": "code",
      "source": [
        "# creating a function to plit a portion nof dataset for training and testing \n",
        "def load_dataset(df, fold, all_titles):\n",
        "    if all_titles != \"True\":\n",
        "        print(\"Using a portion of the dataset\")\n",
        "        df = df[df[\"fold\"].isin(range(0,10))]\n",
        "    else:\n",
        "        print(\"Using all dataset\")\n",
        "\n",
        "    labels = df[\"labels\"].values\n",
        "    labels = [[l for l in label_string.split()] for label_string in labels]\n",
        "    multilabel_binarizer = MultiLabelBinarizer(sparse_output = True)\n",
        "    multilabel_binarizer.fit(labels)\n",
        "    \n",
        "    def to_indicator_matrix(some_df):\n",
        "        some_df_labels = some_df[\"labels\"].values\n",
        "        some_df_labels = [[l for l in label_string.split()] for label_string in some_df_labels]\n",
        "        return multilabel_binarizer.transform(some_df_labels)\n",
        "    test_df = df[df[\"fold\"] == fold]\n",
        "    X_test = test_df[\"title\"].values\n",
        "    y_test = to_indicator_matrix(test_df)\n",
        "\n",
        "    train_df = df[df[\"fold\"] != fold]\n",
        "    X_train = train_df[\"title\"].values\n",
        "    y_train = to_indicator_matrix(train_df)\n",
        "    \n",
        "    return X_train, y_train, X_test, y_test"
      ],
      "metadata": {
        "id": "PUHKcE9dXsdO"
      },
      "execution_count": 16,
      "outputs": []
    },
    {
      "cell_type": "code",
      "source": [
        "SINGLE_FOLD = True\n",
        "ALL_TITLES = True\n",
        "\n",
        "def evaluate(dataset):\n",
        "    df = pd.read_csv(dataset)\n",
        "    df= df.drop(['id'], axis=1)\n",
        "    df['title'] = df['title'].str.lower()\n",
        "    df['title'] = df['title'].apply(lambda x: ' '.join([word for word in x.split() if word not in (stop)]))\n",
        "    \n",
        "    scores = []\n",
        "    for i in range(0, 10):\n",
        "        train_df, y_train, test_df, y_test = load_dataset(df, i, all_titles = ALL_TITLES)\n",
        "        clf.fit(train_df, y_train)\n",
        "        y_pred = clf.predict(test_df)\n",
        "\n",
        "        scores.append(f1_score(y_test, y_pred, average=\"samples\"))\n",
        "\n",
        "        if SINGLE_FOLD:\n",
        "            break\n",
        "    return np.mean(scores)\n",
        "\n",
        "print(\"EconBiz average F-1 score:\", evaluate('econbiz.csv'))"
      ],
      "metadata": {
        "colab": {
          "base_uri": "https://localhost:8080/"
        },
        "id": "IVqDPR0M1szd",
        "outputId": "1f8def3a-c7d0-47ea-a5af-d33bee3dcec7"
      },
      "execution_count": 20,
      "outputs": [
        {
          "output_type": "stream",
          "name": "stdout",
          "text": [
            "Using a portion of the dataset\n",
            "EconBiz average F-1 score: 0.34357714626980507\n"
          ]
        }
      ]
    }
  ]
}